{
 "cells": [
  {
   "cell_type": "code",
   "execution_count": 1,
   "metadata": {
    "collapsed": false
   },
   "outputs": [],
   "source": [
    "import sys\n",
    "import os\n",
    "sys.path.append(\"/home/nakamura/network_dissection/NetDissect/src\")\n",
    "os.chdir(\"/home/nakamura/network_dissection/NetDissect/\")\n",
    "\n",
    "import numpy as np\n",
    "import matplotlib.pyplot as plt\n",
    "import pandas as pd\n",
    "\n",
    "import seaborn\n",
    "\n",
    "from dream import PreferedImage\n",
    "from category_info import category_info\n",
    "script = \"/home/nakamura/network_dissection/NetDissect/research/top_iou_detected_ratio_1227.ipynb\"\n",
    "% matplotlib inline"
   ]
  },
  {
   "cell_type": "code",
   "execution_count": 2,
   "metadata": {
    "collapsed": true
   },
   "outputs": [],
   "source": [
    "pf = PreferedImage(height=384, width=384)"
   ]
  },
  {
   "cell_type": "code",
   "execution_count": 3,
   "metadata": {
    "collapsed": false
   },
   "outputs": [
    {
     "name": "stderr",
     "output_type": "stream",
     "text": [
      "/home/python/2.7/lib/python2.7/site-packages/scipy/ndimage/interpolation.py:568: UserWarning: From scipy 0.13.0, the output shape of zoom() is calculated with round() instead of int() - for these inputs the size of the returned array has changed.\n",
      "  \"the returned array has changed.\", UserWarning)\n",
      "/home/python/2.7/lib/python2.7/site-packages/scipy/ndimage/interpolation.py:430: UserWarning: The behaviour of affine_transform with a one-dimensional array supplied for the matrix parameter has changed in scipy 0.18.0.\n",
      "  \"The behaviour of affine_transform with a one-dimensional \"\n"
     ]
    },
    {
     "name": "stdout",
     "output_type": "stream",
     "text": [
      "iter_000\n",
      "iter_001\n",
      "iter_002\n",
      "iter_003\n",
      "iter_004\n",
      "iter_005\n",
      "iter_006\n",
      "iter_007\n",
      "iter_008\n",
      "iter_009\n",
      "iter_010\n",
      "iter_011\n",
      "iter_012\n",
      "iter_013\n",
      "iter_014\n",
      "iter_015\n",
      "iter_016\n",
      "iter_017\n",
      "iter_018\n",
      "iter_019\n",
      "iter_020\n",
      "iter_021\n",
      "iter_022\n",
      "iter_023\n",
      "iter_024\n",
      "iter_025\n",
      "iter_026\n",
      "iter_027\n",
      "iter_028\n",
      "iter_029\n",
      "iter_030\n",
      "iter_031\n",
      "iter_032\n",
      "iter_033\n",
      "iter_034\n",
      "iter_035\n",
      "iter_036\n",
      "iter_037\n",
      "iter_038\n",
      "iter_039\n",
      "iter_040\n",
      "iter_041\n",
      "iter_042\n",
      "iter_043\n",
      "iter_044\n",
      "iter_045\n",
      "iter_046\n",
      "iter_047\n",
      "iter_048\n",
      "iter_049\n",
      "iter_050\n",
      "iter_051\n",
      "iter_052\n",
      "iter_053\n",
      "iter_054\n",
      "iter_055\n",
      "iter_056\n",
      "iter_057\n",
      "iter_058\n",
      "iter_059\n",
      "iter_060\n",
      "iter_061\n",
      "iter_062\n",
      "iter_063\n",
      "iter_064\n",
      "iter_065\n",
      "iter_066\n",
      "iter_067\n",
      "iter_068\n",
      "iter_069\n",
      "iter_070\n",
      "iter_071\n",
      "iter_072\n",
      "iter_073\n",
      "iter_074\n",
      "iter_075\n",
      "iter_076\n",
      "iter_077\n",
      "iter_078\n",
      "iter_079\n",
      "iter_080\n",
      "iter_081\n",
      "iter_082\n",
      "iter_083\n",
      "iter_084\n",
      "iter_085\n",
      "iter_086\n",
      "iter_087\n",
      "iter_088\n",
      "iter_089\n",
      "iter_090\n",
      "iter_091\n",
      "iter_092\n",
      "iter_093\n",
      "iter_094\n",
      "iter_095\n",
      "iter_096\n",
      "iter_097\n",
      "iter_098\n",
      "iter_099\n"
     ]
    }
   ],
   "source": [
    "pf.compute_pf_image(\"conv2\", 5)"
   ]
  },
  {
   "cell_type": "code",
   "execution_count": null,
   "metadata": {
    "collapsed": true
   },
   "outputs": [],
   "source": []
  }
 ],
 "metadata": {
  "kernelspec": {
   "display_name": "Python 2",
   "language": "python",
   "name": "python2"
  },
  "language_info": {
   "codemirror_mode": {
    "name": "ipython",
    "version": 2
   },
   "file_extension": ".py",
   "mimetype": "text/x-python",
   "name": "python",
   "nbconvert_exporter": "python",
   "pygments_lexer": "ipython2",
   "version": "2.7.12"
  }
 },
 "nbformat": 4,
 "nbformat_minor": 0
}
